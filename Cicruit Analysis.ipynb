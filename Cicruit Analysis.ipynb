{
  "nbformat": 4,
  "nbformat_minor": 0,
  "metadata": {
    "colab": {
      "provenance": [],
      "authorship_tag": "ABX9TyM5QUxBiuqaxytLhDB0GFeV",
      "include_colab_link": true
    },
    "kernelspec": {
      "name": "python3",
      "display_name": "Python 3"
    },
    "language_info": {
      "name": "python"
    }
  },
  "cells": [
    {
      "cell_type": "markdown",
      "metadata": {
        "id": "view-in-github",
        "colab_type": "text"
      },
      "source": [
        "<a href=\"https://colab.research.google.com/github/ZeanIkLaurie/Circuits/blob/master/Cicruit%20Analysis.ipynb\" target=\"_parent\"><img src=\"https://colab.research.google.com/assets/colab-badge.svg\" alt=\"Open In Colab\"/></a>"
      ]
    },
    {
      "cell_type": "code",
      "execution_count": 1,
      "metadata": {
        "id": "VM-kCS2tGtjR"
      },
      "outputs": [],
      "source": [
        "import numpy as np\n",
        "import matplotlib.pyplot as plt"
      ]
    },
    {
      "cell_type": "code",
      "source": [
        "samples_per_unit = 10\n",
        "maxT = 100\n",
        "sampleN = maxT*samples_per_unit\n",
        "T = np.linspace(0,maxT,sampleN+1)\n",
        "R = [[0]*sampleN]*8\n",
        "R[1] = 310+10*T\n",
        "R[2] = 220+20*T\n",
        "R[3] = 240+30*T\n",
        "R[4] = [330]*(sampleN+1)\n",
        "R[5] = [360]*(sampleN+1)\n",
        "R[6] = [240]*(sampleN+1)\n",
        "R[7] = [270]*(sampleN+1)"
      ],
      "metadata": {
        "id": "VacyxojqH8qD"
      },
      "execution_count": 69,
      "outputs": []
    },
    {
      "cell_type": "code",
      "source": [
        "# Inciso (a):\n",
        "def mtx_lsys(time):\n",
        "  x = time*samples_per_unit\n",
        "  for i in range(1,4): print('R[', i, '] a los', time, 'seg. :', R[i][x], 'Ohms')\n",
        "\n",
        "ux_time = int(input(\"Dame un tiempo (en seg.): \"))\n",
        "mtx_lsys(ux_time)"
      ],
      "metadata": {
        "colab": {
          "base_uri": "https://localhost:8080/"
        },
        "id": "tf7wJQvMOjON",
        "outputId": "367caf6d-0728-43da-851b-60cc572c309e"
      },
      "execution_count": 62,
      "outputs": [
        {
          "output_type": "stream",
          "name": "stdout",
          "text": [
            "Dame un tiempo (en seg.): 65\n",
            "R[ 1 ] a los 65 seg. : 960.0 Ohms\n",
            "R[ 2 ] a los 65 seg. : 1520.0 Ohms\n",
            "R[ 3 ] a los 65 seg. : 2190.0 Ohms\n"
          ]
        }
      ]
    },
    {
      "cell_type": "code",
      "source": [
        "# Inciso (b):\n",
        "def mtx_solver(A):\n",
        "  B = np.zeros([4,5])\n",
        "  X = np.zeros(4)\n",
        "  for k in range(3):\n",
        "    for i in range(k+1,4):\n",
        "      for j in range(k+1,5):\n",
        "        B[i][j] = (A[k][j]/A[k][k])*A[i][k]\n",
        "        A[i][j] -= B[i][j]\n",
        "    for i in range(k+1,4): A[i][k] = 0\n",
        "  X[3] = A[3][4]/A[3][3]\n",
        "  for i in range(2,-1,-1):\n",
        "    sum = 0.0\n",
        "    for m in range(i+1,4):\n",
        "      sum += A[i][m]*X[m]\n",
        "      X[i] = (A[i][4]-sum)/A[i][i]\n",
        "  return(X)\n",
        "\n",
        "def AR(x): # x aquí es el tiempo, pero entre 0 y samplesN y no en segundos\n",
        "  return([[R[1][x]+R[2][x],-R[2][x], 0, 0],\n",
        "     [-R[2][x], R[2][x]+R[3][x]+R[4][x], -R[4][x], 0],\n",
        "     [0, -R[4][x], R[4][x]+R[5][x]+R[6][x], R[6][x]],\n",
        "     [0, 0, R[6][x], R[6][x]+R[7][x]]])\n",
        "\n",
        "def ARV(x): # ésta es la matriz como se usa en el algoritmo, con V incluida\n",
        "  return np.hstack( (AR(x), np.transpose([V])) )\n",
        "\n",
        "V = [10, 0, 0, 12]\n",
        "print(ARV(0))\n",
        "\n",
        "I0 = mtx_solver(ARV(0))\n",
        "print(I0)"
      ],
      "metadata": {
        "colab": {
          "base_uri": "https://localhost:8080/"
        },
        "id": "SCeTWoL3BqJB",
        "outputId": "9c81996d-c686-4dcd-c08b-267525b66707"
      },
      "execution_count": 63,
      "outputs": [
        {
          "output_type": "stream",
          "name": "stdout",
          "text": [
            "[[ 530. -220.    0.    0.   10.]\n",
            " [-220.  790. -330.    0.    0.]\n",
            " [   0. -330.  930.  240.    0.]\n",
            " [   0.    0.  240.  510.   12.]]\n",
            "[ 0.02024094  0.00330771 -0.0055755   0.02615318]\n"
          ]
        }
      ]
    },
    {
      "cell_type": "markdown",
      "source": [],
      "metadata": {
        "id": "s-5T2pBZ4Ych"
      }
    },
    {
      "cell_type": "code",
      "source": [
        "I0 = np.linalg.solve(AR(0),V)\n",
        "print(I0)"
      ],
      "metadata": {
        "colab": {
          "base_uri": "https://localhost:8080/"
        },
        "id": "z_l8nnyrZAha",
        "outputId": "83de120b-0a42-43d8-b278-6bc8cec718eb"
      },
      "execution_count": 64,
      "outputs": [
        {
          "output_type": "stream",
          "name": "stdout",
          "text": [
            "[ 0.02024094  0.00330771 -0.0055755   0.02615318]\n"
          ]
        }
      ]
    },
    {
      "cell_type": "code",
      "source": [
        "# Inciso (c)\n",
        "I = [[]]*4\n",
        "for i in range(sampleN+1):\n",
        "  temp_I = mtx_solver(ARV(i))\n",
        "  temp_I = np.transpose([temp_I])\n",
        "  I = np.hstack((I,temp_I))\n",
        "# Aquí I[n-1] corresponde a I sub n"
      ],
      "metadata": {
        "id": "z-cKaLVqGgU3"
      },
      "execution_count": 70,
      "outputs": []
    },
    {
      "cell_type": "code",
      "source": [
        "# Inciso (d)\n",
        "for i in range(4): plt.plot(T,1000*I[i])\n",
        "\n",
        "plt.title('Corrientes en el circuito con respecto al tiempo')\n",
        "plt.xlabel('Tiempo (en seg.)')\n",
        "plt.ylabel('Corriente (en mA)')\n",
        "plt.xlim([0,105])\n",
        "plt.axhline(linewidth=1, color='gray')\n",
        "plt.grid()\n",
        "\n",
        "plt.show()"
      ],
      "metadata": {
        "colab": {
          "base_uri": "https://localhost:8080/",
          "height": 472
        },
        "id": "zJZy3T-D-M19",
        "outputId": "88686a35-525a-442a-c944-c4cd6d5003d1"
      },
      "execution_count": 87,
      "outputs": [
        {
          "output_type": "display_data",
          "data": {
            "text/plain": [
              "<Figure size 640x480 with 1 Axes>"
            ],
            "image/png": "[encoded data removed]"
          },
          "metadata": {}
        }
      ]
    }
  ]
}